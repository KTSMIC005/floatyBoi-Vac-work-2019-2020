{
 "cells": [
  {
   "cell_type": "code",
   "execution_count": 1,
   "metadata": {},
   "outputs": [],
   "source": [
    "# import influxdb\n",
    "from influxdb import InfluxDBClient\n",
    "import json\n",
    "\n",
    "testing = True\n",
    "if testing:\n",
    "    import data_fetcher_fake\n"
   ]
  },
  {
   "cell_type": "code",
   "execution_count": 2,
   "metadata": {},
   "outputs": [],
   "source": [
    "\n",
    "def make_database(client,database_name):\n",
    "    databases = client.get_list_database()\n",
    "    has_db = False\n",
    "    for db in databases:\n",
    "        if (db[\"name\"] == database_name):\n",
    "            has_db = True\n",
    "            break\n",
    "\n",
    "    if has_db:\n",
    "        return \"Already has db\"\n",
    "\n",
    "    try:\n",
    "        client.create_database(database_name)\n",
    "    except:\n",
    "        return 1\n",
    "    else:\n",
    "        return \"Some error reached. Is the database server online?\"\n",
    "    \n",
    "    "
   ]
  },
  {
   "cell_type": "markdown",
   "metadata": {},
   "source": [
    "# Now to connect and use the database"
   ]
  },
  {
   "cell_type": "markdown",
   "metadata": {},
   "source": [
    "## Making a database\n"
   ]
  },
  {
   "cell_type": "code",
   "execution_count": 3,
   "metadata": {},
   "outputs": [
    {
     "name": "stdout",
     "output_type": "stream",
     "text": [
      "Already has db\n",
      "List of avalible databases\n",
      "[{'name': '_internal'}, {'name': 'python_example_db'}, {'name': 'pyexample'}]\n"
     ]
    }
   ],
   "source": [
    "\n",
    "\n",
    "client = InfluxDBClient(host='localhost', port=8086 )\n",
    "\n",
    "this_db = 'pyexample'\n",
    "msg = make_database(client, this_db)\n",
    "if(1 != msg):\n",
    "    print(msg)\n",
    "\n",
    "print(\"List of avalible databases\")\n",
    "print(client.get_list_database())\n",
    "\n",
    "client.switch_database(this_db)\n"
   ]
  },
  {
   "cell_type": "code",
   "execution_count": 4,
   "metadata": {},
   "outputs": [
    {
     "data": {
      "text/plain": [
       "True"
      ]
     },
     "execution_count": 4,
     "metadata": {},
     "output_type": "execute_result"
    }
   ],
   "source": [
    "new_data = data_fetcher_fake.get_recent_data()  \n",
    "\n",
    "client.write_points(new_data)\n"
   ]
  },
  {
   "cell_type": "code",
   "execution_count": 5,
   "metadata": {},
   "outputs": [
    {
     "ename": "SyntaxError",
     "evalue": "EOL while scanning string literal (<ipython-input-5-e35659c8ebbb>, line 1)",
     "output_type": "error",
     "traceback": [
      "\u001b[1;36m  File \u001b[1;32m\"<ipython-input-5-e35659c8ebbb>\"\u001b[1;36m, line \u001b[1;32m1\u001b[0m\n\u001b[1;33m    njson = '{\"name\": \"mike\",\u001b[0m\n\u001b[1;37m                             ^\u001b[0m\n\u001b[1;31mSyntaxError\u001b[0m\u001b[1;31m:\u001b[0m EOL while scanning string literal\n"
     ]
    }
   ],
   "source": [
    "njson = '{\"name\": \"mike\",\n",
    "        \"name2\": \"Amaan\",\n",
    "        \"age\":21}'\n",
    "json.loads(njson)"
   ]
  }
 ],
 "metadata": {
  "kernelspec": {
   "display_name": "Python 3",
   "language": "python",
   "name": "python3"
  },
  "language_info": {
   "codemirror_mode": {
    "name": "ipython",
    "version": 3
   },
   "file_extension": ".py",
   "mimetype": "text/x-python",
   "name": "python",
   "nbconvert_exporter": "python",
   "pygments_lexer": "ipython3",
   "version": "3.7.3"
  }
 },
 "nbformat": 4,
 "nbformat_minor": 2
}
